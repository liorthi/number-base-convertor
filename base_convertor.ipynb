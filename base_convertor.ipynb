{
 "cells": [
  {
   "cell_type": "code",
   "execution_count": 1,
   "metadata": {},
   "outputs": [],
   "source": [
    "import tkinter as tk\n",
    "\n",
    "# Define a constant string representing the characters used in different bases (up to base 36)\n",
    "NUM_COLLECTION = '0123456789abcdefghijklmnopqrstuvwxyz'"
   ]
  },
  {
   "cell_type": "code",
   "execution_count": 30,
   "metadata": {},
   "outputs": [],
   "source": [
    "# Function to convert a number from base 10 to another base (up to base 36)\n",
    "def convert_from_base_10(base_10, base_n):\n",
    "    base_10 = int(base_10)\n",
    "    # 1 is special so we cover the 1\n",
    "    if base_n == 1:\n",
    "        return '1' * base_10\n",
    "\n",
    "    final_num = '' \n",
    "    all_base_numbers = NUM_COLLECTION[:base_n]  # Get the relevant characters for the target base\n",
    "    \n",
    "    # go over all the numbers\n",
    "    while base_10 != 0:\n",
    "        #add number to final number\n",
    "        final_num += all_base_numbers[base_10 % base_n]\n",
    "        \n",
    "        # update worked on number \n",
    "        base_10 = int(base_10 / base_n)\n",
    "        \n",
    "    # Return the final converted number in reverse order (as it was built from remainders)\n",
    "    return final_num[::-1]"
   ]
  },
  {
   "cell_type": "code",
   "execution_count": 31,
   "metadata": {},
   "outputs": [],
   "source": [
    "# Function to convert a number from a given base to base 10\n",
    "def convert_to_base_10(num_in_base_n, base):\n",
    "    # Reverse the input\n",
    "    num_in_base_n = str(num_in_base_n)[::-1]\n",
    "    \n",
    "    final_num = 0  # Initialize the final base 10 number\n",
    "    \n",
    "    # Iterate through each digit in the reversed number\n",
    "    for i in range(len(num_in_base_n)):\n",
    "        # Calculate\n",
    "        final_num += int(NUM_COLLECTION.index(num_in_base_n[i])) * base ** i\n",
    "\n",
    "    # Return the final base 10 number as a string\n",
    "    return str(final_num)"
   ]
  },
  {
   "cell_type": "code",
   "execution_count": 34,
   "metadata": {},
   "outputs": [],
   "source": [
    "def convertor(num, from_base, to_base):\n",
    "    ans = convert_to_base_10(num, from_base)\n",
    "    \n",
    "    return convert_from_base_10(ans, to_base)"
   ]
  },
  {
   "cell_type": "code",
   "execution_count": 35,
   "metadata": {},
   "outputs": [],
   "source": [
    "def calculate():\n",
    "    # Get the values from the entry widgets and calculate the conversion\n",
    "    num = str(entry1.get())\n",
    "    from_base = int(entry2.get())\n",
    "    to_base = int(entry3.get())\n",
    "    result = convertor(num, from_base, to_base)\n",
    "    \n",
    "    # Update the label with the result\n",
    "    result_label.config(text=f\"Result: {result}\")\n",
    "\n",
    "# Create the main window\n",
    "window = tk.Tk()\n",
    "window.title(\"Base Converter\")\n",
    "\n",
    "# Create entry widgets for the number and base values\n",
    "entry1_label = tk.Label(window, text=\"Number:\")\n",
    "entry1_label.pack()\n",
    "entry1 = tk.Entry(window)\n",
    "entry1.pack()\n",
    "\n",
    "entry2_label = tk.Label(window, text=\"From base:\")\n",
    "entry2_label.pack()\n",
    "entry2 = tk.Entry(window)\n",
    "entry2.pack()\n",
    "\n",
    "entry3_label = tk.Label(window, text=\"To base:\")\n",
    "entry3_label.pack()\n",
    "entry3 = tk.Entry(window)\n",
    "entry3.pack()\n",
    "\n",
    "# Create a button to perform the base conversion\n",
    "calculate_button = tk.Button(window, text=\"Convert\", command=calculate)\n",
    "calculate_button.pack(pady=10)\n",
    "\n",
    "# Create a label to display the result\n",
    "result_label = tk.Label(window, text=\"Result:\")\n",
    "result_label.pack()\n",
    "\n",
    "# Start the Tkinter event loop\n",
    "window.mainloop()"
   ]
  }
 ],
 "metadata": {
  "kernelspec": {
   "display_name": "Conda_VENV",
   "language": "python",
   "name": "python3"
  },
  "language_info": {
   "codemirror_mode": {
    "name": "ipython",
    "version": 3
   },
   "file_extension": ".py",
   "mimetype": "text/x-python",
   "name": "python",
   "nbconvert_exporter": "python",
   "pygments_lexer": "ipython3",
   "version": "3.10.11"
  }
 },
 "nbformat": 4,
 "nbformat_minor": 2
}
